{
 "nbformat": 4,
 "nbformat_minor": 2,
 "metadata": {
  "language_info": {
   "name": "python",
   "codemirror_mode": {
    "name": "ipython",
    "version": 3
   },
   "version": "3.8.1-final"
  },
  "orig_nbformat": 2,
  "file_extension": ".py",
  "mimetype": "text/x-python",
  "name": "python",
  "npconvert_exporter": "python",
  "pygments_lexer": "ipython3",
  "version": 3,
  "kernelspec": {
   "name": "python38164bitfreelanceconda8c8501b19df74622be70fb03e5335dd3",
   "display_name": "Python 3.8.1 64-bit ('freelance': conda)"
  }
 },
 "cells": [
  {
   "cell_type": "code",
   "execution_count": 2,
   "metadata": {},
   "outputs": [],
   "source": [
    "import warnings\n",
    "warnings.filterwarnings('ignore')\n",
    "import os\n",
    "import sys\n",
    "from pathlib import Path\n",
    "\n",
    "import pandas as pd \n",
    "import numpy as np \n",
    "import matplotlib.pyplot as plt \n",
    "import seaborn as sns\n",
    "import yaml"
   ]
  },
  {
   "cell_type": "code",
   "execution_count": 3,
   "metadata": {},
   "outputs": [
    {
     "output_type": "stream",
     "name": "stdout",
     "text": "{'PATH': {'PROJECT_PATH': 'D:\\\\Kaggle\\\\MachineLearning_CI_CD', 'SCRIPT_PATH': 'D:\\\\Kaggle\\\\MachineLearning_CI_CD\\\\scripts', 'MODELS_PATH': 'D:\\\\Kaggle\\\\MachineLearning_CI_CD\\\\models', 'DATA_PATH': 'D:\\\\Kaggle\\\\MachineLearning_CI_CD\\\\data'}}\n"
    }
   ],
   "source": [
    "with open('config.yaml', 'r') as f:\n",
    "    config = yaml.load(f)\n",
    "\n",
    "print(config)"
   ]
  },
  {
   "cell_type": "code",
   "execution_count": null,
   "metadata": {},
   "outputs": [],
   "source": []
  }
 ]
}