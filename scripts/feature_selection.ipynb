{
 "nbformat": 4,
 "nbformat_minor": 2,
 "metadata": {
  "language_info": {
   "name": "python",
   "codemirror_mode": {
    "name": "ipython",
    "version": 3
   },
   "version": "3.8.0-final"
  },
  "orig_nbformat": 2,
  "file_extension": ".py",
  "mimetype": "text/x-python",
  "name": "python",
  "npconvert_exporter": "python",
  "pygments_lexer": "ipython3",
  "version": 3,
  "kernelspec": {
   "name": "python38064bitkaggleconda68ac0009ee8b43ef8407b64f5e0c2923",
   "display_name": "Python 3.8.0 64-bit ('kaggle': conda)"
  }
 },
 "cells": [
  {
   "cell_type": "code",
   "execution_count": 6,
   "metadata": {},
   "outputs": [],
   "source": [
    "import warnings\n",
    "warnings.filterwarnings('ignore')\n",
    "import os\n",
    "import sys\n",
    "import time\n",
    "\n",
    "import pandas as pd \n",
    "import numpy as np \n",
    "import matplotlib.pyplot as plt \n",
    "import seaborn as sns\n",
    "import yaml\n",
    "\n",
    "from sklearn.linear_model import Lasso\n",
    "from sklearn.feature_selection import SelectFromModel\n",
    "\n",
    "pd.pandas.set_option('display.max_columns', None)\n",
    "pd.pandas.set_option('display.max_rows', None)\n",
    ""
   ]
  },
  {
   "cell_type": "code",
   "execution_count": 3,
   "metadata": {},
   "outputs": [
    {
     "output_type": "stream",
     "name": "stdout",
     "text": "{'PATH': {'PROJECT_PATH': 'D:\\\\Kaggle\\\\MachineLearning_CI_CD', 'SCRIPT_PATH': 'D:\\\\Kaggle\\\\MachineLearning_CI_CD\\\\scripts', 'MODELS_PATH': 'D:\\\\Kaggle\\\\MachineLearning_CI_CD\\\\models', 'DATA_PATH': 'D:\\\\Kaggle\\\\MachineLearning_CI_CD\\\\data', 'ANALYSIS_REPORTS_PATH': 'D:\\\\Kaggle\\\\MachineLearning_CI_CD\\\\documents\\\\Analysis\\\\'}}\n"
    }
   ],
   "source": [
    "with open('config.yaml', 'r') as f:\n",
    "    config = yaml.load(f)\n",
    "\n",
    "print(config)"
   ]
  },
  {
   "cell_type": "code",
   "execution_count": 5,
   "metadata": {},
   "outputs": [
    {
     "output_type": "stream",
     "name": "stdout",
     "text": "Id  SalePrice  MSSubClass  MSZoning  LotFrontage   LotArea  Street  \\\n0   931  12.211060    0.000000      0.75     0.461171  0.377048     1.0   \n1   657  11.887931    0.000000      0.75     0.456066  0.399443     1.0   \n2    46  12.675764    0.588235      0.75     0.394699  0.347082     1.0   \n3  1349  12.278393    0.000000      0.75     0.388581  0.493677     1.0   \n4    56  12.103486    0.000000      0.75     0.577658  0.402702     1.0   \n\n   Alley  LotShape  LandContour  Utilities  LotConfig  LandSlope  \\\n0    1.0  0.333333     1.000000        1.0        0.0        0.0   \n1    1.0  0.333333     0.333333        1.0        0.0        0.0   \n2    1.0  0.000000     0.333333        1.0        0.0        0.0   \n3    1.0  0.666667     0.666667        1.0        0.0        0.0   \n4    1.0  0.333333     0.333333        1.0        0.0        0.0   \n\n   Neighborhood  Condition1  Condition2  BldgType  HouseStyle  OverallQual  \\\n0      0.863636         0.4         1.0      0.75         0.6     0.777778   \n1      0.363636         0.4         1.0      0.75         0.6     0.444444   \n2      0.954545         0.4         1.0      1.00         0.6     0.888889   \n3      0.454545         0.4         1.0      0.75         0.6     0.666667   \n4      0.363636         0.4         1.0      0.75         0.6     0.555556   \n\n   OverallCond  YearBuilt  YearRemodAdd  RoofStyle  RoofMatl  Exterior1st  \\\n0         0.50   0.014706      0.049180        0.0       0.0          1.0   \n1         0.75   0.360294      0.049180        0.0       0.0          0.6   \n2         0.50   0.036765      0.098361        1.0       0.0          0.3   \n3         0.50   0.066176      0.163934        0.0       0.0          1.0   \n4         0.50   0.323529      0.737705        0.0       0.0          0.6   \n\n   Exterior2nd  MasVnrType  MasVnrArea  ExterQual  ExterCond  Foundation  \\\n0          1.0    0.000000     0.00000   0.666667        1.0         1.0   \n1          0.6    0.666667     0.03375   0.666667        1.0         0.5   \n2          0.2    0.666667     0.25750   1.000000        1.0         1.0   \n3          1.0    0.000000     0.00000   0.666667        1.0         1.0   \n4          0.7    0.666667     0.17000   0.333333        1.0         0.5   \n\n   BsmtQual  BsmtCond  BsmtExposure  BsmtFinType1  BsmtFinSF1  BsmtFinType2  \\\n0      0.75      0.75          0.75      1.000000    0.002835      0.666667   \n1      0.50      0.75          0.25      0.666667    0.142807      0.666667   \n2      1.00      0.75          0.25      1.000000    0.080794      0.666667   \n3      0.75      0.75          1.00      1.000000    0.255670      0.666667   \n4      0.50      0.75          0.25      0.333333    0.086818      0.666667   \n\n   BsmtFinSF2  BsmtUnfSF  TotalBsmtSF  Heating  HeatingQC  CentralAir  \\\n0         0.0   0.673479     0.239935      1.0       1.00         1.0   \n1         0.0   0.114724     0.172340      1.0       1.00         1.0   \n2         0.0   0.601951     0.286743      1.0       1.00         1.0   \n3         0.0   0.018114     0.242553      1.0       1.00         1.0   \n4         0.0   0.434278     0.233224      1.0       0.75         1.0   \n\n   Electrical  1stFlrSF  2ndFlrSF  LowQualFinSF  GrLivArea  BsmtFullBath  \\\n0         1.0  0.559760       0.0           0.0   0.523250      0.000000   \n1         1.0  0.434539       0.0           0.0   0.406196      0.333333   \n2         1.0  0.627205       0.0           0.0   0.586296      0.333333   \n3         1.0  0.566920       0.0           0.0   0.529943      0.333333   \n4         1.0  0.549026       0.0           0.0   0.513216      0.000000   \n\n   BsmtHalfBath  FullBath  HalfBath  BedroomAbvGr  KitchenAbvGr  KitchenQual  \\\n0           0.0  0.666667       0.0         0.375      0.333333     0.666667   \n1           0.0  0.333333       0.5         0.375      0.333333     0.666667   \n2           0.0  0.666667       0.0         0.250      0.333333     1.000000   \n3           0.0  0.666667       0.0         0.375      0.333333     0.666667   \n4           0.0  0.666667       0.0         0.375      0.333333     0.333333   \n\n   TotRmsAbvGrd  Functional  Fireplaces  FireplaceQu  GarageType  GarageYrBlt  \\\n0      0.416667         1.0    0.000000          0.2         0.8     0.018692   \n1      0.250000         1.0    0.000000          0.2         0.8     0.457944   \n2      0.333333         1.0    0.333333          0.8         0.8     0.046729   \n3      0.250000         1.0    0.333333          0.4         0.8     0.084112   \n4      0.416667         1.0    0.333333          0.8         0.8     0.411215   \n\n   GarageFinish  GarageCars  GarageArea  GarageQual  GarageCond  PavedDrive  \\\n0      1.000000        0.75    0.430183    0.666667         1.0         1.0   \n1      0.666667        0.25    0.220028    0.666667         1.0         1.0   \n2      0.666667        0.50    0.406206    0.666667         1.0         1.0   \n3      0.666667        0.50    0.362482    0.666667         1.0         1.0   \n4      0.666667        0.50    0.406206    0.666667         1.0         1.0   \n\n   WoodDeckSF  OpenPorchSF  EnclosedPorch  3SsnPorch  ScreenPorch  PoolArea  \\\n0    0.116686     0.032907            0.0   0.000000          0.0       0.0   \n1    0.000000     0.000000            0.0   0.000000          0.0       0.0   \n2    0.228705     0.149909            0.0   0.000000          0.0       0.0   \n3    0.469078     0.045704            0.0   0.000000          0.0       0.0   \n4    0.000000     0.000000            0.0   0.801181          0.0       0.0   \n\n   PoolQC  Fence  MiscFeature  MiscVal    MoSold  YrSold  SaleType  \\\n0     0.0   0.75          1.0      0.0  0.545455    0.75  0.666667   \n1     0.0   0.50          1.0      0.0  0.636364    0.50  0.666667   \n2     0.0   0.75          1.0      0.0  0.090909    1.00  0.666667   \n3     0.0   0.75          1.0      0.0  0.636364    0.25  0.666667   \n4     0.0   0.75          1.0      0.0  0.545455    0.50  0.666667   \n\n   SaleCondition  LotFrontage_na  MasVnrArea_na  GarageYrBlt_na  \n0           0.75             0.0            0.0             0.0  \n1           0.75             0.0            0.0             0.0  \n2           0.75             0.0            0.0             0.0  \n3           0.75             1.0            0.0             0.0  \n4           0.75             0.0            0.0             0.0  \n-----------------------------------------------------------------------\n    Id  SalePrice  MSSubClass  MSZoning  LotFrontage   LotArea  Street  Alley  \\\n0  530  12.209188    0.000000      0.75     0.388581  0.630999     1.0    1.0   \n1  492  11.798104    0.176471      0.75     0.490408  0.389061     1.0    1.0   \n2  460  11.608236    0.176471      0.75     0.388581  0.329918     1.0    1.0   \n3  280  12.165251    0.235294      0.75     0.508690  0.399404     1.0    1.0   \n4  656  11.385092    0.823529      0.25     0.000000  0.050188     1.0    1.0   \n\n   LotShape  LandContour  Utilities  LotConfig  LandSlope  Neighborhood  \\\n0  0.333333     0.333333        1.0        1.0        0.0      0.727273   \n1  0.000000     0.333333        1.0        0.0        0.0      0.363636   \n2  0.333333     0.000000        1.0        0.5        0.0      0.181818   \n3  0.000000     0.333333        1.0        0.0        0.0      0.772727   \n4  0.000000     0.333333        1.0        0.0        0.0      0.090909   \n\n   Condition1  Condition2  BldgType  HouseStyle  OverallQual  OverallCond  \\\n0         0.4         1.0      0.75         0.6     0.555556        0.250   \n1         0.0         1.0      0.75         0.2     0.555556        0.750   \n2         0.4         1.0      0.75         0.2     0.444444        0.375   \n3         0.4         1.0      0.75         1.0     0.666667        0.500   \n4         0.4         1.0      0.50         1.0     0.555556        0.500   \n\n   YearBuilt  YearRemodAdd  RoofStyle  RoofMatl  Exterior1st  Exterior2nd  \\\n0   0.367647      0.540984        1.0       0.0          0.1          0.5   \n1   0.477941      0.934426        0.0       0.0          0.1          0.1   \n2   0.433824      0.983607        0.0       0.0          0.3          0.2   \n3   0.227941      0.524590        1.0       0.0          0.7          0.7   \n4   0.286765      0.655738        0.0       0.0          0.6          0.5   \n\n   MasVnrType  MasVnrArea  ExterQual  ExterCond  Foundation  BsmtQual  \\\n0    0.333333    0.000000   0.666667        1.0         1.0      0.50   \n1    0.000000    0.000000   0.333333        1.0         0.5      0.50   \n2    0.333333    0.100625   0.333333        1.0         0.5      0.50   \n3    0.666667    0.186875   0.333333        1.0         0.5      0.75   \n4    0.666667    0.238125   0.333333        1.0         0.5      0.50   \n\n   BsmtCond  BsmtExposure  BsmtFinType1  BsmtFinSF1  BsmtFinType2  BsmtFinSF2  \\\n0      0.75          0.25      0.166667    0.215982      0.666667     0.00000   \n1      0.75          0.25      0.333333    0.071403      0.500000     0.11194   \n2      0.75          0.25      0.500000    0.032778      0.666667     0.00000   \n3      0.75          0.25      0.333333    0.069454      0.666667     0.00000   \n4      0.75          0.25      0.833333    0.000000      0.666667     0.00000   \n\n   BsmtUnfSF  TotalBsmtSF  Heating  HeatingQC  CentralAir  Electrical  \\\n0   0.379006     0.333061      1.0        0.5         1.0    1.000000   \n1   0.110543     0.131915      1.0        0.5         1.0    0.666667   \n2   0.243381     0.116039      1.0        0.5         1.0    1.000000   \n3   0.356712     0.189853      1.0        1.0         1.0    1.000000   \n4   0.243846     0.085925      1.0        0.5         1.0    1.000000   \n\n   1stFlrSF  2ndFlrSF  LowQualFinSF  GrLivArea  BsmtFullBath  BsmtHalfBath  \\\n0  0.764014  0.000000           0.0   0.714182      0.333333           0.0   \n1  0.398758  0.331197           0.0   0.549294      0.333333           0.0   \n2  0.406964  0.119658           0.0   0.453307      0.333333           0.0   \n3  0.469855  0.462607           0.0   0.636999      0.000000           0.0   \n4  0.171149  0.302885           0.0   0.419061      0.000000           0.0   \n\n   FullBath  HalfBath  BedroomAbvGr  KitchenAbvGr  KitchenQual  TotRmsAbvGrd  \\\n0  1.000000       0.0         0.500      0.666667     0.333333      0.583333   \n1  0.333333       0.0         0.375      0.333333     0.000000      0.250000   \n2  0.333333       0.0         0.375      0.333333     0.666667      0.250000   \n3  0.666667       0.5         0.500      0.333333     0.333333      0.500000   \n4  0.333333       0.5         0.375      0.333333     0.333333      0.333333   \n\n   Functional  Fireplaces  FireplaceQu  GarageType  GarageYrBlt  GarageFinish  \\\n0         0.0    0.666667          0.6         0.8     0.299065      0.666667   \n1         1.0    0.666667          0.6         0.8     0.607477      0.333333   \n2         1.0    0.333333          0.6         0.4     0.551402      0.333333   \n3         1.0    0.333333          0.6         0.8     0.289720      1.000000   \n4         1.0    0.000000          0.2         0.4     0.364486      0.333333   \n\n   GarageCars  GarageArea  GarageQual  GarageCond  PavedDrive  WoodDeckSF  \\\n0        0.50    0.341326    0.666667         1.0         1.0    0.000000   \n1        0.25    0.169252    0.666667         1.0         1.0    0.000000   \n2        0.25    0.248237    0.666667         1.0         1.0    0.000000   \n3        0.50    0.356135    0.666667         1.0         1.0    0.336056   \n4        0.25    0.186178    0.666667         1.0         1.0    0.000000   \n\n   OpenPorchSF  EnclosedPorch  3SsnPorch  ScreenPorch  PoolArea  PoolQC  \\\n0     0.000000       0.362319        0.0          0.0       0.0     0.0   \n1     0.000000       0.057971        0.0          0.0       0.0     0.0   \n2     0.000000       0.449275        0.0          0.0       0.0     0.0   \n3     0.213894       0.000000        0.0          0.0       0.0     0.0   \n4     0.000000       0.000000        0.0          0.0       0.0     0.0   \n\n   Fence  MiscFeature  MiscVal    MoSold  YrSold  SaleType  SaleCondition  \\\n0   0.75          1.0      0.0  0.181818    0.25  0.666667           0.00   \n1   0.50          1.0      0.0  0.636364    0.00  0.666667           0.75   \n2   0.75          1.0      0.0  0.545455    0.75  0.666667           0.75   \n3   0.75          1.0      0.0  0.181818    0.50  0.666667           0.75   \n4   0.75          1.0      0.0  0.181818    1.00  0.666667           0.50   \n\n   LotFrontage_na  MasVnrArea_na  GarageYrBlt_na  \n0             1.0            1.0             0.0  \n1             0.0            0.0             0.0  \n2             1.0            0.0             0.0  \n3             0.0            0.0             0.0  \n4             0.0            0.0             0.0  \n"
    }
   ],
   "source": [
    "X_train = pd.read_csv(os.path.join(config['PATH']['DATA_PATH'], 'X_train.csv'))\n",
    "X_test = pd.read_csv(os.path.join(config['PATH']['DATA_PATH'], 'X_test.csv'))\n",
    "print(X_train.head())\n",
    "print('-----------------------------------------------------------------------')\n",
    "print(X_test.head())"
   ]
  },
  {
   "cell_type": "code",
   "execution_count": 7,
   "metadata": {},
   "outputs": [],
   "source": [
    "## Compute the target\n",
    "y_train = X_train['SalePrice']\n",
    "y_test = X_test['SalePrice']\n",
    "\n",
    "X_train.drop(['Id', 'SalePrice'], axis = 1, inplace = True)\n",
    "X_test.drop(['Id', 'SalePrice'], axis = 1, inplace = True)"
   ]
  },
  {
   "cell_type": "code",
   "execution_count": 8,
   "metadata": {},
   "outputs": [
    {
     "output_type": "execute_result",
     "data": {
      "text/plain": "SelectFromModel(estimator=Lasso(alpha=0.005, copy_X=True, fit_intercept=True,\n                                max_iter=1000, normalize=False, positive=False,\n                                precompute=False, random_state=0,\n                                selection='cyclic', tol=0.0001,\n                                warm_start=False),\n                max_features=None, norm_order=1, prefit=False, threshold=None)"
     },
     "metadata": {},
     "execution_count": 8
    }
   ],
   "source": [
    "## Feature selection\n",
    "\n",
    "sel_ = SelectFromModel(Lasso(alpha = 0.005, random_state = 0))\n",
    "sel_.fit(X_train, y_train)"
   ]
  },
  {
   "cell_type": "code",
   "execution_count": 9,
   "metadata": {},
   "outputs": [
    {
     "output_type": "execute_result",
     "data": {
      "text/plain": "array([ True,  True, False, False, False, False, False, False, False,\n       False, False,  True, False, False, False, False,  True,  True,\n       False,  True,  True, False, False, False,  True, False, False,\n       False, False,  True, False,  True, False, False, False, False,\n       False, False, False,  True,  True, False,  True, False, False,\n        True,  True, False, False, False, False, False,  True, False,\n       False,  True,  True,  True, False,  True,  True, False, False,\n       False,  True, False, False, False, False, False, False, False,\n       False, False, False, False, False, False, False, False, False,\n       False])"
     },
     "metadata": {},
     "execution_count": 9
    }
   ],
   "source": [
    "sel_.get_support()"
   ]
  },
  {
   "cell_type": "code",
   "execution_count": 12,
   "metadata": {},
   "outputs": [
    {
     "output_type": "stream",
     "name": "stdout",
     "text": "Index(['MSSubClass', 'MSZoning', 'Neighborhood', 'OverallQual', 'OverallCond',\n       'YearRemodAdd', 'RoofStyle', 'MasVnrType', 'BsmtQual', 'BsmtExposure',\n       'HeatingQC', 'CentralAir', '1stFlrSF', 'GrLivArea', 'BsmtFullBath',\n       'KitchenQual', 'Fireplaces', 'FireplaceQu', 'GarageType',\n       'GarageFinish', 'GarageCars', 'PavedDrive'],\n      dtype='object')\nNumber of selected features: 22\n"
    }
   ],
   "source": [
    "selected_feat = X_train.columns[(sel_.get_support())]\n",
    "print(selected_feat)\n",
    "print('Number of selected features:', len(selected_feat))"
   ]
  },
  {
   "cell_type": "code",
   "execution_count": 13,
   "metadata": {},
   "outputs": [],
   "source": [
    "pd.Series(selected_feat).to_csv(os.path.join(config['PATH']['DATA_PATH'],'selected_features.csv'), index = False)"
   ]
  },
  {
   "cell_type": "code",
   "execution_count": null,
   "metadata": {},
   "outputs": [],
   "source": []
  }
 ]
}